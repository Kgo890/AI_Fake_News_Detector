{
  "nbformat": 4,
  "nbformat_minor": 0,
  "metadata": {
    "colab": {
      "provenance": [],
      "gpuType": "T4",
      "mount_file_id": "1Ft-dlAA0DErtkx9K5dQsTpjiDsFd1aN7",
      "authorship_tag": "ABX9TyOM8Yhpgjo6RsSzHC+47WHC",
      "include_colab_link": true
    },
    "kernelspec": {
      "name": "python3",
      "display_name": "Python 3"
    },
    "language_info": {
      "name": "python"
    },
    "accelerator": "GPU"
  },
  "cells": [
    {
      "cell_type": "markdown",
      "metadata": {
        "id": "view-in-github",
        "colab_type": "text"
      },
      "source": [
        "<a href=\"https://colab.research.google.com/github/Kgo890/AI_Fake_News_Detector/blob/main/emotion_model.ipynb\" target=\"_parent\"><img src=\"https://colab.research.google.com/assets/colab-badge.svg\" alt=\"Open In Colab\"/></a>"
      ]
    },
    {
      "cell_type": "code",
      "source": [
        "\n",
        "!jupyter nbconvert --ClearOutputPreprocessor.enabled=True --inplace emotion_model.ipynb"
      ],
      "metadata": {
        "id": "d6Z1hLnGVbHw"
      },
      "execution_count": null,
      "outputs": []
    },
    {
      "cell_type": "code",
      "execution_count": null,
      "metadata": {
        "id": "9vMt3NQOnaZo"
      },
      "outputs": [],
      "source": [
        "!pip install -q transformers datasets neattext"
      ]
    },
    {
      "cell_type": "code",
      "source": [
        "import os\n",
        "os.environ['WANDB_DISABLED'] = \"true\"\n",
        "os.environ[\"WANDB_SILENT\"] = \"true\"\n",
        "from transformers import AutoTokenizer, AutoModelForSequenceClassification, Trainer, TrainingArguments\n",
        "from datasets import load_dataset\n",
        "import torch\n",
        "import numpy as np\n",
        "from sklearn.metrics import classification_report, confusion_matrix\n",
        "import seaborn as sns\n",
        "import matplotlib.pyplot as plt"
      ],
      "metadata": {
        "id": "BFiGwYEVoaVW"
      },
      "execution_count": null,
      "outputs": []
    },
    {
      "cell_type": "code",
      "source": [
        "dataset = load_dataset(\"dair-ai/emotion\")\n",
        "label_names = dataset[\"train\"].features[\"label\"].names"
      ],
      "metadata": {
        "id": "2L-a-9RUodYD"
      },
      "execution_count": null,
      "outputs": []
    },
    {
      "cell_type": "code",
      "source": [
        "MODEL = \"bhadresh-savani/roberta-base-emotion\"\n",
        "tokenizer = AutoTokenizer.from_pretrained(MODEL)\n",
        "model = AutoModelForSequenceClassification.from_pretrained(MODEL, num_labels=6)"
      ],
      "metadata": {
        "id": "0ghxz5dJofED"
      },
      "execution_count": null,
      "outputs": []
    },
    {
      "cell_type": "code",
      "source": [
        "def tokenize(example):\n",
        "    return tokenizer(example[\"text\"], truncation=True, padding=\"max_length\", max_length=128)"
      ],
      "metadata": {
        "id": "U09DF2Dcohtr"
      },
      "execution_count": null,
      "outputs": []
    },
    {
      "cell_type": "code",
      "source": [
        "tokenized_dataset = dataset.map(tokenize, batched=True)\n",
        "tokenized_dataset.set_format(\"torch\", columns=[\"input_ids\", \"attention_mask\", \"label\"])"
      ],
      "metadata": {
        "id": "vC2VT0lOolka"
      },
      "execution_count": null,
      "outputs": []
    },
    {
      "cell_type": "code",
      "source": [
        "training_args = TrainingArguments(\n",
        "    output_dir=\"./roberta-emotion-pytorch\",\n",
        "    eval_strategy=\"epoch\",\n",
        "    save_strategy=\"epoch\",\n",
        "    learning_rate=2e-5,\n",
        "    per_device_train_batch_size=32,\n",
        "    per_device_eval_batch_size=32,\n",
        "    num_train_epochs=5,\n",
        "    weight_decay=0.01,\n",
        "    logging_steps=50,\n",
        "    load_best_model_at_end=True,\n",
        "    save_total_limit=1,\n",
        "    metric_for_best_model=\"accuracy\"\n",
        ")"
      ],
      "metadata": {
        "id": "QGQ2VCbAonwD"
      },
      "execution_count": null,
      "outputs": []
    },
    {
      "cell_type": "code",
      "source": [
        "def compute_metrics(pred):\n",
        "    preds = np.argmax(pred.predictions, axis=1)\n",
        "    labels = pred.label_ids\n",
        "    accuracy = np.mean(preds == labels)\n",
        "    return {\"accuracy\": accuracy}"
      ],
      "metadata": {
        "id": "yW_6_bofopYc"
      },
      "execution_count": null,
      "outputs": []
    },
    {
      "cell_type": "code",
      "source": [
        "trainer = Trainer(\n",
        "    model=model,\n",
        "    args=training_args,\n",
        "    train_dataset=tokenized_dataset[\"train\"],\n",
        "    eval_dataset=tokenized_dataset[\"validation\"],\n",
        "    compute_metrics=compute_metrics,\n",
        ")"
      ],
      "metadata": {
        "id": "H-WKJ722osTr"
      },
      "execution_count": null,
      "outputs": []
    },
    {
      "cell_type": "code",
      "source": [
        "trainer.train()"
      ],
      "metadata": {
        "id": "8hIwQRguotfS"
      },
      "execution_count": null,
      "outputs": []
    },
    {
      "cell_type": "code",
      "source": [
        "eval_results = trainer.evaluate()\n",
        "print(\"Evaluation results:\", eval_results)"
      ],
      "metadata": {
        "id": "HZXbMGD3ot28"
      },
      "execution_count": null,
      "outputs": []
    },
    {
      "cell_type": "code",
      "source": [
        "predictions_output = trainer.predict(tokenized_dataset[\"test\"])\n",
        "y_pred = np.argmax(predictions_output.predictions, axis=1)\n",
        "y_true = predictions_output.label_ids\n"
      ],
      "metadata": {
        "id": "yYXu9fCGoxTD"
      },
      "execution_count": null,
      "outputs": []
    },
    {
      "cell_type": "code",
      "source": [
        "print(\"\\nClassification Report:\\n\")\n",
        "print(classification_report(y_true, y_pred, target_names=label_names))"
      ],
      "metadata": {
        "id": "ox55Cx1YozRz"
      },
      "execution_count": null,
      "outputs": []
    },
    {
      "cell_type": "code",
      "source": [
        "cm = confusion_matrix(y_true, y_pred)\n",
        "plt.figure(figsize=(8, 6))\n",
        "sns.heatmap(cm, annot=True, fmt='d', cmap='Blues', xticklabels=label_names, yticklabels=label_names)\n",
        "plt.xlabel(\"Predicted Label\")\n",
        "plt.ylabel(\"True Label\")\n",
        "plt.title(\"Confusion Matrix\")\n",
        "plt.show()"
      ],
      "metadata": {
        "id": "OUWoKSAKo2kv"
      },
      "execution_count": null,
      "outputs": []
    },
    {
      "cell_type": "code",
      "source": [
        "trainer.save_model(\"roberta-emotion-model\")\n",
        "tokenizer.save_pretrained(\"roberta-emotion-model\")"
      ],
      "metadata": {
        "id": "Wl_oVgTuo3Yj"
      },
      "execution_count": null,
      "outputs": []
    },
    {
      "cell_type": "code",
      "source": [
        "def predict_emotion(text):\n",
        "    device = torch.device(\"cuda\" if torch.cuda.is_available() else \"cpu\")\n",
        "    model.to(device)\n",
        "\n",
        "    inputs = tokenizer(text, return_tensors=\"pt\", truncation=True, padding=True).to(device)\n",
        "    outputs = model(**inputs)\n",
        "\n",
        "    probs = outputs.logits.softmax(dim=1)\n",
        "    predicted_class = probs.argmax().item()\n",
        "    return label_names[predicted_class], float(probs[0][predicted_class])\n",
        "\n",
        "predict_emotion(\"I feel so empty and hopeless today.\")"
      ],
      "metadata": {
        "id": "hVbvkuiPo5uz"
      },
      "execution_count": null,
      "outputs": []
    }
  ]
}